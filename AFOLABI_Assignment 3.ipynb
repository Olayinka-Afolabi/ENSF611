{
 "cells": [
  {
   "cell_type": "markdown",
   "id": "92778525",
   "metadata": {},
   "source": [
    "# Assignment 3: Non-Linear Models and Validation Metrics (37 total marks)\n",
    "### Due: October 24 at 11:59pm\n",
    "\n",
    "### Name: "
   ]
  },
  {
   "cell_type": "markdown",
   "id": "ce31b39a",
   "metadata": {},
   "source": [
    "### In this assignment, you will need to write code that uses non-linear models to perform classification and regression tasks. You will also be asked to describe the process by which you came up with the code. More details can be found below. Please cite any websites or AI tools that you used to help you with this assignment."
   ]
  },
  {
   "cell_type": "markdown",
   "id": "cf275ca7",
   "metadata": {},
   "source": [
    "### Import Libraries"
   ]
  },
  {
   "cell_type": "code",
   "execution_count": 1,
   "id": "2b67a661",
   "metadata": {
    "tags": []
   },
   "outputs": [],
   "source": [
    "import numpy as np\n",
    "import pandas as pd\n",
    "import matplotlib.pyplot as plt\n",
    "import seaborn as sns"
   ]
  },
  {
   "cell_type": "markdown",
   "id": "5ee2d2c3",
   "metadata": {},
   "source": [
    "## Part 1: Regression (14.5 marks)\n",
    "\n",
    "For this section, we will be continuing with the concrete example from yellowbrick. You will need to compare these results to the results from the previous assignment. Please use the results from the solution if you were unable to complete Assignment 2"
   ]
  },
  {
   "cell_type": "markdown",
   "id": "8219f163",
   "metadata": {},
   "source": [
    "### Step 1: Data Input (0.5 marks)\n",
    "\n",
    "The data used for this task can be downloaded using the yellowbrick library: \n",
    "https://www.scikit-yb.org/en/latest/api/datasets/concrete.html\n",
    "\n",
    "Use the yellowbrick function `load_concrete()` to load the concrete dataset into the feature matrix `X` and target vector `y`."
   ]
  },
  {
   "cell_type": "code",
   "execution_count": 2,
   "id": "2af8bd32",
   "metadata": {
    "tags": []
   },
   "outputs": [],
   "source": [
    "# TO DO: Import concrete dataset from yellowbrick library\n",
    "from yellowbrick.datasets import load_concrete\n",
    "X, y = load_concrete()\n"
   ]
  },
  {
   "cell_type": "markdown",
   "id": "42fea4cc",
   "metadata": {},
   "source": [
    "### Step 2: Data Processing (0 marks)\n",
    "\n",
    "Data processing was completed in the previous assignment. No need to repeat here."
   ]
  },
  {
   "cell_type": "markdown",
   "id": "2a245d00",
   "metadata": {},
   "source": [
    "### Step 3: Implement Machine Learning Model\n",
    "\n",
    "1. Import the Decision Tree, Random Forest and Gradient Boosting Machines regression models from sklearn\n",
    "2. Instantiate the three models with `max_depth = 5`. Are there any other parameters that you will need to set?\n",
    "3. Implement each machine learning model with `X` and `y`"
   ]
  },
  {
   "cell_type": "markdown",
   "id": "3f994e31",
   "metadata": {},
   "source": [
    "### Step 4: Validate Model\n",
    "\n",
    "Calculate the average training and validation accuracy using mean squared error with cross-validation. To do this, you will need to set `scoring='neg_mean_squared_error'` in your `cross_validate` function and negate the results (multiply by -1)"
   ]
  },
  {
   "cell_type": "markdown",
   "id": "5fc3f7a8",
   "metadata": {},
   "source": [
    "### Step 5: Visualize Results (4 marks)\n",
    "\n",
    "1. Create a pandas DataFrame `results` with columns: Training accuracy and Validation accuracy, and index: DT, RF and GB\n",
    "2. Add the accuracy results to the `results` DataFrame\n",
    "3. Print `results`"
   ]
  },
  {
   "cell_type": "code",
   "execution_count": 8,
   "id": "334bf5f1-111e-4526-af76-b2a43725f1bc",
   "metadata": {
    "tags": []
   },
   "outputs": [
    {
     "name": "stdout",
     "output_type": "stream",
     "text": [
      "DecisionTreeRegressor - Average Training MSE: 47.82, Average Validation MSE: 73.65\n",
      "RandomForestRegressor - Average Training MSE: 30.15, Average Validation MSE: 47.25\n",
      "GradientBoostingRegressor - Average Training MSE: 3.69, Average Validation MSE: 23.59\n"
     ]
    }
   ],
   "source": [
    "#TO DO: ADD YOUR CODE HERE FOR STEPS 3-5\n",
    "from sklearn.tree import DecisionTreeRegressor\n",
    "from sklearn.ensemble import RandomForestRegressor\n",
    "from sklearn.ensemble import GradientBoostingRegressor\n",
    "from sklearn.model_selection import train_test_split, cross_validate\n",
    "from sklearn.model_selection import cross_val_score\n",
    "from sklearn.metrics import make_scorer, mean_squared_error\n",
    "\n",
    "#Instantiate the three models with max_depth = 5.\n",
    "\n",
    "dTree = DecisionTreeRegressor(max_depth = 5)\n",
    "rForest = RandomForestRegressor(max_depth = 5)\n",
    "gBoost = GradientBoostingRegressor(max_depth = 5)\n",
    "\n",
    "#Implement each machine learning model with X and y\n",
    "#split the X and y into testing and training sets\n",
    "X_train, X_test, y_train, y_test = train_test_split(X, y, test_size = 0.2, random_state = 0)\n",
    "\n",
    "#create a list of the models\n",
    "models = [dTree, rForest, gBoost]\n",
    "\n",
    "#Create a dictionary to store the result\n",
    "results = {}\n",
    "\n",
    "#As instructed, set scoring to 'neg_mean_squared_error'\n",
    "scorings = \"neg_mean_squared_error\"\n",
    "\n",
    "for model in models:\n",
    "    #fit the model to the training data\n",
    "    model.fit(X_train, y_train)\n",
    "    \n",
    "    #Make predicitons on the test data\n",
    "    y_prediction = model.predict(X_test)\n",
    "    \n",
    "    #Perform cross validation for each model on the training data\n",
    "    cResult = cross_validate(model, X_train, y_train, cv = 5, scoring = scorings, return_train_score=True)\n",
    "    #print(cResult.keys())\n",
    "    \n",
    "    #perform the training and validation Mean Squared Error Scores (negated) for each model\n",
    "    ctraining_MSE = -cResult['train_score'].mean()\n",
    "    cValidation_MSE = -cResult[\"test_score\"].mean()\n",
    "   \n",
    "    # Store the results in the dictionary\n",
    "    results[type(model).__name__] = {\n",
    "        'Average Training accuracy': ctraining_MSE,\n",
    "        'Average Validation accuracy': cValidation_MSE\n",
    "    }\n",
    "#Print the results\n",
    "for model_name, mse in results.items():\n",
    "    print(f\"{model_name} - Average Training MSE: {mse['Average Training accuracy']:.2f}, Average Validation MSE: {mse['Average Validation accuracy']:.2f}\")\n",
    "\n",
    "# # Note: for any random state parameters, you can use random_state = 0\n",
    "# HINT: USING A LOOP TO STORE THE DATA IN YOUR RESULTS DATAFRAME WILL BE MORE EFFICIENT"
   ]
  },
  {
   "cell_type": "markdown",
   "id": "dc3d9f84-26d7-4a48-8594-646ff0a7e9b1",
   "metadata": {},
   "source": [
    "Repeat the step above to print the R2 score instead of the mean-squared error. For this case, you can use `scoring='r2'`"
   ]
  },
  {
   "cell_type": "code",
   "execution_count": 13,
   "id": "b3f22923-2454-4003-a6d6-71f3443d362f",
   "metadata": {},
   "outputs": [
    {
     "name": "stdout",
     "output_type": "stream",
     "text": [
      "DecisionTreeRegressor - Average Training R2: 0.83, Average Validation R2: 0.74\n",
      "RandomForestRegressor - Average Training R2: 0.89, Average Validation R2: 0.83\n",
      "GradientBoostingRegressor - Average Training R2: 0.99, Average Validation R2: 0.92\n"
     ]
    }
   ],
   "source": [
    "# TO DO: ADD YOUR CODE HERE\n",
    "from sklearn.tree import DecisionTreeRegressor\n",
    "from sklearn.ensemble import RandomForestRegressor\n",
    "from sklearn.ensemble import GradientBoostingRegressor\n",
    "from sklearn.model_selection import train_test_split, cross_validate\n",
    "from sklearn.model_selection import cross_val_score\n",
    "from sklearn.metrics import make_scorer, mean_squared_error\n",
    "\n",
    "#Instantiate the three models with max_depth = 5.\n",
    "\n",
    "dTree = DecisionTreeRegressor(max_depth = 5)\n",
    "rForest = RandomForestRegressor(max_depth = 5)\n",
    "gBoost = GradientBoostingRegressor(max_depth = 5)\n",
    "\n",
    "#Implement each machine learning model with X and y\n",
    "#split the X and y into testing and training sets\n",
    "X_train, X_test, y_train, y_test = train_test_split(X, y, test_size = 0.2, random_state = 0)\n",
    "\n",
    "#create a list of the models\n",
    "models = [dTree, rForest, gBoost]\n",
    "\n",
    "#Create a dictionary to store the result\n",
    "results = {}\n",
    "\n",
    "#As instructed, set scoring to 'neg_mean_squared_error'\n",
    "#scorings = \"neg_mean_squared_error\"\n",
    "\n",
    "for model in models:\n",
    "    #fit the model to the training data\n",
    "    model.fit(X_train, y_train)\n",
    "    \n",
    "    #Make predicitons on the test data\n",
    "    y_prediction = model.predict(X_test)\n",
    "    \n",
    "    #Perform cross validation for each model on the training data\n",
    "    cResult = cross_validate(model, X_train, y_train, cv = 5, scoring = 'r2', return_train_score=True)\n",
    "    #print(cResult.keys())\n",
    "    \n",
    "    #perform the training and validation Mean Squared Error Scores (negated) for each model\n",
    "    ctraining_R2 = cResult['train_score'].mean()\n",
    "    cValidation_R2 = cResult[\"test_score\"].mean()\n",
    "   \n",
    "    # Store the results in the dictionary\n",
    "    results[type(model).__name__] = {\n",
    "        'Average Training accuracy': ctraining_R2,\n",
    "        'Average Validation accuracy': cValidation_R2\n",
    "    }\n",
    "#Print the results\n",
    "for model_name, mse in results.items():\n",
    "    print(f\"{model_name} - Average Training R2: {mse['Average Training accuracy']:.2f}, Average Validation R2: {mse['Average Validation accuracy']:.2f}\")\n"
   ]
  },
  {
   "cell_type": "markdown",
   "id": "a5257a98",
   "metadata": {},
   "source": [
    "### Questions (6 marks)\n",
    "1. How do these results compare to the results using a linear model in the previous assignment? Use values.\n",
    "1. Out of the models you tested, which model would you select for this dataset and why?\n",
    "1. If you wanted to increase the accuracy of the tree-based models, what would you do? Provide two suggestions.\n",
    "\n",
    "*ANSWER HERE*\n",
    "\n",
    "1. Using the R2 Scores, in the Linear model, the values obtained were not close to 1 unlike the R2 score for all the regressor model used here(RandomForest, Decision Tree and Gradient Boot) which are closer to 1.Infact, the gradientBoosting Regressor model was the closest to 1.\n",
    "2. I would select the Gradient Boosting Regressor model. It has the lowest average mean squared error and also it has the closest R2 closest to 1\n",
    "3. I can increase the max_depth which allows to capture more complex patterns though overfitting may be a problem\n",
    "Another option is to preprocess the data and remove features that may not be too relevant."
   ]
  },
  {
   "cell_type": "markdown",
   "id": "37b238f4",
   "metadata": {},
   "source": [
    "### Process Description (4 marks)\n",
    "Please describe the process you used to create your code. Cite any websites or generative AI tools used. You can use the following questions as guidance:\n",
    "1. Where did you source your code?\n",
    "1. In what order did you complete the steps?\n",
    "1. If you used generative AI, what prompts did you use? Did you need to modify the code at all? Why or why not?\n",
    "1. Did you have any challenges? If yes, what were they? If not, what helped you to be successful?"
   ]
  },
  {
   "cell_type": "markdown",
   "id": "93097bfe",
   "metadata": {},
   "source": [
    "*DESCRIBE YOUR PROCESS HERE*\n",
    "1.I used the Scikit-learn [documentation](https://scikit-learn.org/stable/modules/generated/sklearn.model_selection.cross_validate.html) and also [this](https://scikit-learn.org/stable/modules/generated/sklearn.tree.DecisionTreeRegressor.html)\n",
    "2. I completed it in the following order:\n",
    "a. imported the required library and dataset\n",
    "b. Instantiated the model required for the task\n",
    "c. Split the data into training and test sets\n",
    "d. Created a list of the model to be used\n",
    "e. Created a dictionary to hold the result\n",
    "f. fit the model\n",
    "g. Made predictions on the data\n",
    "h  Performed cross validation\n",
    "i.Used both the Mean squared error and the R2 to get the different result for comparison\n",
    "3.No\n",
    "4 Yes I had challenges. I needed to understand the available parameters when using the cross validation and why they may be neccessary or not\n"
   ]
  },
  {
   "cell_type": "markdown",
   "id": "f7c6de86",
   "metadata": {},
   "source": [
    "## Part 2: Classification (17.5 marks)\n",
    "\n",
    "You have been asked to develop code that can help the user classify different wine samples. Following the machine learning workflow described in class, write the relevant code in each of the steps below:"
   ]
  },
  {
   "cell_type": "markdown",
   "id": "5f9d33a8",
   "metadata": {},
   "source": [
    "### Step 1: Data Input (2 marks)\n",
    "\n",
    "The data used for this task can be downloaded from UCI: https://archive.ics.uci.edu/dataset/109/wine\n",
    "\n",
    "Use the pandas library to load the dataset. You must define the column headers if they are not included in the dataset \n",
    "\n",
    "You will need to split the dataset into feature matrix `X` and target vector `y`. Which column represents the target vector?\n",
    "\n",
    "Print the size and type of `X` and `y`"
   ]
  },
  {
   "cell_type": "code",
   "execution_count": 33,
   "id": "33583c67",
   "metadata": {},
   "outputs": [
    {
     "name": "stdout",
     "output_type": "stream",
     "text": [
      "Size of X:  (178, 13)\n",
      "Size of y:  (178, 1)\n",
      "Data type of X: <class 'pandas.core.frame.DataFrame'>\n",
      "Data type of y: <class 'pandas.core.frame.DataFrame'>\n"
     ]
    }
   ],
   "source": [
    "# TO DO: Import wine dataset\n",
    "import pandas as pd\n",
    "from ucimlrepo import fetch_ucirepo \n",
    "  \n",
    "# fetch dataset \n",
    "wine = fetch_ucirepo(id=109) \n",
    "  \n",
    "# data (as pandas dataframes) \n",
    "X = wine.data.features \n",
    "y = wine.data.targets \n",
    "\n",
    "# Print the size (shape) of X and y\n",
    "print(\"Size of X: \", X.shape)\n",
    "print(\"Size of y: \", y.shape)\n",
    "\n",
    "# Print the data types of X and y\n",
    "print(\"Data type of X:\", type(X))\n",
    "print(\"Data type of y:\", type(y))\n",
    "\n"
   ]
  },
  {
   "cell_type": "markdown",
   "id": "156db208",
   "metadata": {},
   "source": [
    "### Step 2: Data Processing (1.5 marks)"
   ]
  },
  {
   "cell_type": "markdown",
   "id": "a28af110",
   "metadata": {},
   "source": [
    "Print the first five rows of the dataset to inspect:"
   ]
  },
  {
   "cell_type": "code",
   "execution_count": 34,
   "id": "ea266921",
   "metadata": {},
   "outputs": [
    {
     "name": "stdout",
     "output_type": "stream",
     "text": [
      "First five rows of X:\n",
      "   Alcohol  Malicacid   Ash  Alcalinity_of_ash  Magnesium  Total_phenols  \\\n",
      "0    14.23       1.71  2.43               15.6        127           2.80   \n",
      "1    13.20       1.78  2.14               11.2        100           2.65   \n",
      "2    13.16       2.36  2.67               18.6        101           2.80   \n",
      "3    14.37       1.95  2.50               16.8        113           3.85   \n",
      "4    13.24       2.59  2.87               21.0        118           2.80   \n",
      "\n",
      "   Flavanoids  Nonflavanoid_phenols  Proanthocyanins  Color_intensity   Hue  \\\n",
      "0        3.06                  0.28             2.29             5.64  1.04   \n",
      "1        2.76                  0.26             1.28             4.38  1.05   \n",
      "2        3.24                  0.30             2.81             5.68  1.03   \n",
      "3        3.49                  0.24             2.18             7.80  0.86   \n",
      "4        2.69                  0.39             1.82             4.32  1.04   \n",
      "\n",
      "   0D280_0D315_of_diluted_wines  Proline  \n",
      "0                          3.92     1065  \n",
      "1                          3.40     1050  \n",
      "2                          3.17     1185  \n",
      "3                          3.45     1480  \n",
      "4                          2.93      735  \n",
      "First five rows of y:\n",
      "   class\n",
      "0      1\n",
      "1      1\n",
      "2      1\n",
      "3      1\n",
      "4      1\n"
     ]
    }
   ],
   "source": [
    "# TO DO: ADD YOUR CODE HERE\n",
    "print(\"First five rows of X:\")\n",
    "print(X.head())\n",
    "\n",
    "# Print the first five rows of y\n",
    "print(\"First five rows of y:\")\n",
    "print(y.head())"
   ]
  },
  {
   "cell_type": "markdown",
   "id": "834fc8fe",
   "metadata": {},
   "source": [
    "Check to see if there are any missing values in the dataset. If necessary, select an appropriate method to fill-in the missing values"
   ]
  },
  {
   "cell_type": "code",
   "execution_count": 38,
   "id": "97c6e9dc",
   "metadata": {},
   "outputs": [
    {
     "name": "stdout",
     "output_type": "stream",
     "text": [
      "No rows in X have missing values.\n",
      "No columns in X have missing values.\n",
      "No columns in y have missing values.\n"
     ]
    }
   ],
   "source": [
    "# TO DO: ADD YOUR CODE HERE\n",
    "# Check for missing values in rows of X\n",
    "missing_rows = X.isnull().any(axis=1)\n",
    "if not missing_rows.any():\n",
    "    print(\"No rows in X have missing values.\")\n",
    "else:\n",
    "    print(\"Some rows in X have missing values.\")\n",
    "    \n",
    "# Check for missing values in columns (features) of X and y\n",
    "missing_columns = X.isnull().any()\n",
    "if not missing_columns.any():\n",
    "    print(\"No columns in X have missing values.\")\n",
    "else:\n",
    "    print(\"Some columns in X have missing values.\")\n",
    "missing_columns = y.isnull().any()\n",
    "if not missing_columns.any():\n",
    "    print(\"No columns in y have missing values.\")\n",
    "else:\n",
    "    print(\"Some columns in y have missing values.\")"
   ]
  },
  {
   "cell_type": "markdown",
   "id": "070956af",
   "metadata": {},
   "source": [
    "How many samples do we have of each type of wine?"
   ]
  },
  {
   "cell_type": "code",
   "execution_count": 39,
   "id": "b37a6fd9",
   "metadata": {},
   "outputs": [
    {
     "name": "stdout",
     "output_type": "stream",
     "text": [
      "class\n",
      "2        71\n",
      "1        59\n",
      "3        48\n",
      "Name: count, dtype: int64\n"
     ]
    }
   ],
   "source": [
    "# TO DO: ADD YOUR CODE HERE\n",
    "wine_sample = y.value_counts()\n",
    "print(wine_sample)"
   ]
  },
  {
   "cell_type": "markdown",
   "id": "70e6c46f",
   "metadata": {},
   "source": [
    "### Step 3: Implement Machine Learning Model\n",
    "\n",
    "1. Import `SVC` and `DecisionTreeClassifier` from sklearn\n",
    "2. Instantiate models as `SVC()` and `DecisionTreeClassifier(max_depth = 3)`\n",
    "3. Implement the machine learning model with `X` and `y`"
   ]
  },
  {
   "cell_type": "markdown",
   "id": "0870b0d2",
   "metadata": {},
   "source": [
    "### Step 4: Validate Model \n",
    "\n",
    "Calculate the average training and validation accuracy using `cross_validate` for the two different models listed in Step 3. For this case, use `scoring='accuracy'`"
   ]
  },
  {
   "cell_type": "markdown",
   "id": "bb0bbd83",
   "metadata": {},
   "source": [
    "### Step 5: Visualize Results (4 marks)\n",
    "\n",
    "#### Step 5.1: Compare Models\n",
    "1. Create a pandas DataFrame `results` with columns: Training accuracy and Validation accuracy\n",
    "2. Add the data size, training and validation accuracy for each dataset to the `results` DataFrame\n",
    "3. Print `results`"
   ]
  },
  {
   "cell_type": "code",
   "execution_count": 71,
   "id": "be4b5c0a",
   "metadata": {},
   "outputs": [
    {
     "name": "stdout",
     "output_type": "stream",
     "text": [
      "SVC - Data Size: 142, Average Training accuracy: 0.70, Average Validation accuracy: 0.66\n",
      "DecisionTreeClassifier - Data Size: 142, Average Training accuracy: 1.00, Average Validation accuracy: 0.93\n"
     ]
    }
   ],
   "source": [
    "# TO DO: ADD YOUR CODE HERE FOR STEPS 3-5\n",
    "# Note: for any random state parameters, you can use random_state = 0\n",
    "# HINT: USING A LOOP TO STORE THE DATA IN YOUR RESULTS DATAFRAME WILL BE MORE EFFICIENT\n",
    "from sklearn.svm import SVC\n",
    "from sklearn.tree import DecisionTreeClassifier\n",
    "\n",
    "#Instantiate the two models with max_depth = 3.\n",
    "\n",
    "Vector_SVC = SVC(kernel='rbf')\n",
    "DTreeClass = DecisionTreeClassifier(max_depth = 5, random_state = 0)\n",
    "\n",
    "#Implement each machine learning model with X and y\n",
    "#split the X and y into testing and training sets\n",
    "X_train, X_test, y_train, y_test = train_test_split(X, y, test_size = 0.2, random_state = 0)\n",
    "\n",
    "#create a list of the models\n",
    "models = [Vector_SVC, DTreeClass]\n",
    "\n",
    "#Create a dictionary to store the result\n",
    "results = {}\n",
    "accuracies =[]\n",
    "\n",
    "#As instructed, set scoring to 'neg_mean_squared_error'\n",
    "#scorings = \"neg_mean_squared_error\"\n",
    "\n",
    "for model in models:\n",
    "    #fit the model to the training data\n",
    "    model.fit(X_train, y_train)\n",
    "    \n",
    "    #Make predicitons on the test data\n",
    "    y_prediction = model.predict(X_test)\n",
    "    \n",
    "    #Perform cross validation for each model on the training data\n",
    "    cResult = cross_validate(model, X_train, y_train, cv = 5, scoring = 'accuracy', return_train_score = True)\n",
    "    #print(cResult.keys())  \n",
    "    \n",
    "    #perform the training and validation accuracy\n",
    "    ctraining_accuracy = cResult[\"train_score\"].mean()\n",
    "    cValidation_accuracy = cResult[\"test_score\"].mean()\n",
    "    \n",
    "    # Get the data size\n",
    "    data_size = len(X_train)\n",
    "   \n",
    "    #Store the results in the dictionary\n",
    "    results[type(model).__name__] = {'Data Size' : data_size,\n",
    "        'Average Training accuracy': ctraining_accuracy,\n",
    "         'Average Validation accuracy': cValidation_accuracy\n",
    "    }\n",
    "#Print the results\n",
    "for model_name, mse in results.items():\n",
    "    print(f\"{model_name} - Data Size: {mse['Data Size']}, Average Training accuracy: {mse['Average Training accuracy']:.2f}, Average Validation accuracy: {mse['Average Validation accuracy']:.2f}\")\n"
   ]
  },
  {
   "cell_type": "markdown",
   "id": "f2e17878",
   "metadata": {},
   "source": [
    "#### Step 5.2: Visualize Classification Errors\n",
    "Which method gave the highest accuracy? Use this method to print the confusion matrix and classification report:"
   ]
  },
  {
   "cell_type": "code",
   "execution_count": 76,
   "id": "44b091a4",
   "metadata": {},
   "outputs": [
    {
     "name": "stdout",
     "output_type": "stream",
     "text": [
      "The best model is: DecisionTreeClassifier\n"
     ]
    }
   ],
   "source": [
    "# TO DO: Implement best model\n",
    "best_model_name = max(results, key=lambda model: results[model]['Average Validation accuracy'])\n",
    "best_model = models[0] if best_model_name == Vector_SVC.__class__.__name__ else models[1]\n",
    "\n",
    "print(f\"The best model is: {best_model_name}\")\n"
   ]
  },
  {
   "cell_type": "code",
   "execution_count": 77,
   "id": "09d21b59",
   "metadata": {},
   "outputs": [
    {
     "data": {
      "image/png": "[encoded data removed]",
      "text/plain": [
       "<Figure size 800x600 with 2 Axes>"
      ]
     },
     "metadata": {},
     "output_type": "display_data"
    }
   ],
   "source": [
    "# TO DO: Print confusion matrix using a heatmap\n",
    "import seaborn as sns\n",
    "import matplotlib.pyplot as plt\n",
    "from sklearn.metrics import confusion_matrix\n",
    "from sklearn.metrics import classification_report\n",
    "\n",
    "# Calculate the confusion matrix\n",
    "conf_matrix = confusion_matrix(y_test, y_pred)\n",
    "# Create a heatmap for the confusion matrix\n",
    "plt.figure(figsize=(8, 6))\n",
    "sns.heatmap(conf_matrix, annot=True, fmt=\"d\", cmap=\"Blues\", xticklabels=True, yticklabels=True)\n",
    "plt.xlabel('Predicted')\n",
    "plt.ylabel('Actual')\n",
    "plt.title('Confusion Matrix')\n",
    "plt.show()\n"
   ]
  },
  {
   "cell_type": "code",
   "execution_count": 78,
   "id": "5ef95947",
   "metadata": {},
   "outputs": [
    {
     "name": "stdout",
     "output_type": "stream",
     "text": [
      "Classification Report:\n",
      "              precision    recall  f1-score   support\n",
      "\n",
      "           1       1.00      0.93      0.96        14\n",
      "           2       0.80      0.75      0.77        16\n",
      "           3       0.38      0.50      0.43         6\n",
      "\n",
      "    accuracy                           0.78        36\n",
      "   macro avg       0.72      0.73      0.72        36\n",
      "weighted avg       0.81      0.78      0.79        36\n",
      "\n"
     ]
    }
   ],
   "source": [
    "# TO DO: Print classification report\n",
    "# Calculate the classification report\n",
    "class_report = classification_report(y_test, y_pred)\n",
    "\n",
    "# Print the classification report\n",
    "print(\"Classification Report:\")\n",
    "print(class_report)"
   ]
  },
  {
   "cell_type": "markdown",
   "id": "bf319621",
   "metadata": {},
   "source": [
    "### Questions (6 marks)\n",
    "1. How do the training and validation accuracy change depending on the method used? Explain with values.\n",
    "1. What are two reasons why the support vector machines model did not work as well as the tree-based model?\n",
    "1. How many samples were incorrectly classified in step 5.2? \n",
    "1. In this case, is maximizing precision or recall more important? Why?\n",
    "\n",
    "*YOUR ANSWERS HERE*\n",
    "1. The Decision tree have significanly higher training and validation accuracy than the SVC with kernel = radial basis function.\n",
    "2. SVC work well with linear data and may struggle with non linear structure. Another reason may be because of the choice of the kernel\n",
    "3. 8\n",
    "4. It depends on the consequences of the different errors. It depends on the problem's goal and constraints"
   ]
  },
  {
   "cell_type": "markdown",
   "id": "664ff8ae",
   "metadata": {},
   "source": [
    "### Process Description (4 marks)\n",
    "Please describe the process you used to create your code. Cite any websites or generative AI tools used. You can use the following questions as guidance:\n",
    "1. Where did you source your code?\n",
    "1. In what order did you complete the steps?\n",
    "1. If you used generative AI, what prompts did you use? Did you need to modify the code at all? Why or why not?\n",
    "1. Did you have any challenges? If yes, what were they? If not, what helped you to be successful?"
   ]
  },
  {
   "cell_type": "markdown",
   "id": "d0e837da",
   "metadata": {},
   "source": [
    "*DESCRIBE YOUR PROCESS HERE*\n",
    "a. imported the required library and dataset\n",
    "b. Instantiated the model required for the task\n",
    "c. Split the data into training and test sets\n",
    "d. Created a list of the model to be used\n",
    "e. Created a dictionary to hold the result\n",
    "f. fit the model\n",
    "g. Made predictions on the data\n",
    "h  Performed cross validation\n",
    "i  compared the validation and training accuracies\n",
    "j. Used the heat map and confusion matrix to further view the data\n",
    "\n",
    "4. Yes, I had challenges on the decision on the type of kernel to use and why. A lot needed to be read about the kernel but it was a lot to understand."
   ]
  },
  {
   "cell_type": "markdown",
   "id": "4cd7358d",
   "metadata": {},
   "source": [
    "## Part 3: Observations/Interpretation (3 marks)\n",
    "\n",
    "Describe any pattern you see in the results. Relate your findings to what we discussed during lectures. Include data to justify your findings.\n",
    "\n",
    "\n",
    "*ADD YOUR FINDINGS HERE*\n",
    "\n",
    "The outcome totally depends on the type of data, the number of features and the complexity of the problem being solved. It has a tendency to be biased since the user may tend to want to increase the outcome to fit into a particular problem. A lot depends and relies on the data being used to train the model. Also, understanding how different parameters affect the outcome of the training goeas a long way to remove biases and improve outcomes."
   ]
  },
  {
   "cell_type": "markdown",
   "id": "cd97b6ac",
   "metadata": {},
   "source": [
    "## Part 4: Reflection (2 marks)\n",
    "Include a sentence or two about:\n",
    "- what you liked or disliked,\n",
    "- found interesting, confusing, challangeing, motivating\n",
    "while working on this assignment.\n",
    "\n",
    "\n",
    "*ADD YOUR THOUGHTS HERE*\n",
    "\n",
    "I do not like the mathematical part of understanding how to use the parameters. It is very abstract and confusing\n",
    "\n",
    "I find it interesting that outcomes can be predicted with mathematical models. Most problems can be solved with mathematics. I wish I had studied mathematics more."
   ]
  },
  {
   "cell_type": "markdown",
   "id": "fa21e53b",
   "metadata": {},
   "source": [
    "## Part 5: Bonus Question (3 marks)\n",
    "\n",
    "Repeat Part 2 and compare the support vector machines model used to `LinearSVC(max_iter=5000)`. Does using `LinearSVC` improve the results? Why or why not?\n",
    "\n",
    "Is `LinearSVC` a good fit for this dataset? Why or why not?"
   ]
  },
  {
   "cell_type": "code",
   "execution_count": 79,
   "id": "30fea72e",
   "metadata": {},
   "outputs": [],
   "source": [
    "# TO DO: ADD YOUR CODE HERE"
   ]
  },
  {
   "cell_type": "markdown",
   "id": "aabc68a4",
   "metadata": {},
   "source": [
    "*ANSWER HERE*"
   ]
  },
  {
   "cell_type": "code",
   "execution_count": 80,
   "id": "241c3b12",
   "metadata": {},
   "outputs": [
    {
     "name": "stdout",
     "output_type": "stream",
     "text": [
      "SVC - Data Size: 142, Average Training accuracy: 1.00, Average Validation accuracy: 0.94\n",
      "DecisionTreeClassifier - Data Size: 142, Average Training accuracy: 1.00, Average Validation accuracy: 0.93\n"
     ]
    }
   ],
   "source": [
    "# TO DO: ADD YOUR CODE HERE FOR STEPS 3-5\n",
    "# Note: for any random state parameters, you can use random_state = 0\n",
    "# HINT: USING A LOOP TO STORE THE DATA IN YOUR RESULTS DATAFRAME WILL BE MORE EFFICIENT\n",
    "from sklearn.svm import SVC\n",
    "from sklearn.tree import DecisionTreeClassifier\n",
    "\n",
    "#Instantiate the two models with max_depth = 3.\n",
    "\n",
    "Vector_SVC = SVC(kernel='linear')\n",
    "DTreeClass = DecisionTreeClassifier(max_depth = 5, random_state = 0)\n",
    "\n",
    "#Implement each machine learning model with X and y\n",
    "#split the X and y into testing and training sets\n",
    "X_train, X_test, y_train, y_test = train_test_split(X, y, test_size = 0.2, random_state = 0)\n",
    "\n",
    "#create a list of the models\n",
    "models = [Vector_SVC, DTreeClass]\n",
    "\n",
    "#Create a dictionary to store the result\n",
    "results = {}\n",
    "\n",
    "#As instructed, set scoring to 'neg_mean_squared_error'\n",
    "#scorings = \"neg_mean_squared_error\"\n",
    "\n",
    "for model in models:\n",
    "    #fit the model to the training data\n",
    "    model.fit(X_train, y_train)\n",
    "    \n",
    "    #Make predicitons on the test data\n",
    "    y_prediction = model.predict(X_test)\n",
    "    \n",
    "    #Perform cross validation for each model on the training data\n",
    "    cResult = cross_validate(model, X_train, y_train, cv = 5, scoring = 'accuracy', return_train_score = True)\n",
    "    #print(cResult.keys())\n",
    "    \n",
    "    #perform the training and validation accuracy\n",
    "    ctraining_accuracy = cResult[\"train_score\"].mean()\n",
    "    cValidation_accuracy = cResult[\"test_score\"].mean()\n",
    "    \n",
    "    # Get the data size\n",
    "    data_size = len(X_train)\n",
    "   \n",
    "    #Store the results in the dictionary\n",
    "    results[type(model).__name__] = {'Data Size' : data_size,\n",
    "        'Average Training accuracy': ctraining_accuracy,\n",
    "         'Average Validation accuracy': cValidation_accuracy\n",
    "    }\n",
    "#Print the results\n",
    "for model_name, mse in results.items():\n",
    "    print(f\"{model_name} - Data Size: {mse['Data Size']}, Average Training accuracy: {mse['Average Training accuracy']:.2f}, Average Validation accuracy: {mse['Average Validation accuracy']:.2f}\")"
   ]
  },
  {
   "cell_type": "code",
   "execution_count": 83,
   "id": "94c9df9c-7b63-4275-850b-a6714ba5ce99",
   "metadata": {
    "tags": []
   },
   "outputs": [
    {
     "name": "stdout",
     "output_type": "stream",
     "text": [
      "The best model is: SVC\n"
     ]
    }
   ],
   "source": [
    "\n",
    "# TO DO: Implement best model\n",
    "best_model_name = max(results, key=lambda model: results[model]['Average Validation accuracy'])\n",
    "best_model = models[0] if best_model_name == Vector_SVC.__class__.__name__ else models[1]\n",
    "\n",
    "print(f\"The best model is: {best_model_name}\")"
   ]
  },
  {
   "cell_type": "code",
   "execution_count": 84,
   "id": "9dcafbad-7a4f-44f0-8ec3-e3663a388c45",
   "metadata": {
    "tags": []
   },
   "outputs": [
    {
     "data": {
      "image/png": "[encoded data removed]",
      "text/plain": [
       "<Figure size 800x600 with 2 Axes>"
      ]
     },
     "metadata": {},
     "output_type": "display_data"
    }
   ],
   "source": [
    "# TO DO: Print confusion matrix using a heatmap\n",
    "import seaborn as sns\n",
    "import matplotlib.pyplot as plt\n",
    "from sklearn.metrics import confusion_matrix\n",
    "from sklearn.metrics import classification_report\n",
    "\n",
    "# Calculate the confusion matrix\n",
    "conf_matrix = confusion_matrix(y_test, y_pred)\n",
    "# Create a heatmap for the confusion matrix\n",
    "plt.figure(figsize=(8, 6))\n",
    "sns.heatmap(conf_matrix, annot=True, fmt=\"d\", cmap=\"Blues\", xticklabels=True, yticklabels=True)\n",
    "plt.xlabel('Predicted')\n",
    "plt.ylabel('Actual')\n",
    "plt.title('Confusion Matrix')\n",
    "plt.show()\n"
   ]
  },
  {
   "cell_type": "code",
   "execution_count": 85,
   "id": "2c6b336f-8f45-4073-a668-6cbfb5ddcb85",
   "metadata": {
    "tags": []
   },
   "outputs": [
    {
     "name": "stdout",
     "output_type": "stream",
     "text": [
      "Classification Report:\n",
      "              precision    recall  f1-score   support\n",
      "\n",
      "           1       1.00      1.00      1.00        14\n",
      "           2       1.00      0.94      0.97        16\n",
      "           3       0.86      1.00      0.92         6\n",
      "\n",
      "    accuracy                           0.97        36\n",
      "   macro avg       0.95      0.98      0.96        36\n",
      "weighted avg       0.98      0.97      0.97        36\n",
      "\n"
     ]
    }
   ],
   "source": [
    "# TO DO: Print classification report\n",
    "# Calculate the classification report\n",
    "class_report = classification_report(y_test, y_pred)\n",
    "\n",
    "# Print the classification report\n",
    "print(\"Classification Report:\")\n",
    "print(class_report)"
   ]
  },
  {
   "cell_type": "code",
   "execution_count": null,
   "id": "dc249add-c4a1-4b14-852f-0bfda5d28d62",
   "metadata": {},
   "outputs": [],
   "source": []
  }
 ],
 "metadata": {
  "kernelspec": {
   "display_name": "Python 3 (ipykernel)",
   "language": "python",
   "name": "python3"
  },
  "language_info": {
   "codemirror_mode": {
    "name": "ipython",
    "version": 3
   },
   "file_extension": ".py",
   "mimetype": "text/x-python",
   "name": "python",
   "nbconvert_exporter": "python",
   "pygments_lexer": "ipython3",
   "version": "3.11.5"
  }
 },
 "nbformat": 4,
 "nbformat_minor": 5
}
